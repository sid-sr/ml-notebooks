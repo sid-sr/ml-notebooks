{
 "cells": [
  {
   "cell_type": "markdown",
   "metadata": {},
   "source": [
    "## Healthcare Analytics:\n",
    "\n",
    "Things to test out:\n",
    "* Try XGB and LGB ratio ensemble\n",
    "* More date features\n",
    "\n",
    "Observations:\n",
    "* We have to combine the 3 type csv files and the health camp csv with the train csv\n",
    "* The data in the patient df is mostly missing values so it's better to not use them"
   ]
  },
  {
   "cell_type": "code",
   "execution_count": 265,
   "metadata": {},
   "outputs": [
    {
     "name": "stdout",
     "output_type": "stream",
     "text": [
      "Data_Dictionary.xlsx\n",
      "First_Health_Camp_Attended.csv\n",
      "Health_Camp_Detail.csv\n",
      "Patient_Profile.csv\n",
      "Second_Health_Camp_Attended.csv\n",
      "Third_Health_Camp_Attended.csv\n",
      "Train.csv\n"
     ]
    }
   ],
   "source": [
    "import numpy as np\n",
    "import matplotlib.pyplot as plt\n",
    "import pandas as pd\n",
    "\n",
    "import lightgbm as lgb\n",
    "import xgboost as xgb\n",
    "import tqdm\n",
    "import datetime\n",
    "from sklearn.metrics import roc_auc_score\n",
    "\n",
    "# Files we have\n",
    "!ls Train"
   ]
  },
  {
   "cell_type": "code",
   "execution_count": 344,
   "metadata": {},
   "outputs": [],
   "source": [
    "train_data = pd.read_csv('./Train/Train.csv')\n",
    "patient = pd.read_csv('./Train/Patient_Profile.csv')\n",
    "camp_info = pd.read_csv('./Train/Health_Camp_Detail.csv')\n",
    "test_data = pd.read_csv('test.csv')\n",
    "\n",
    "first_type_data = pd.read_csv('./Train/First_Health_Camp_Attended.csv')\n",
    "second_type_data = pd.read_csv('./Train/Second_Health_Camp_Attended.csv')\n",
    "third_type_data = pd.read_csv('./Train/Third_Health_Camp_Attended.csv')"
   ]
  },
  {
   "cell_type": "code",
   "execution_count": 345,
   "metadata": {},
   "outputs": [
    {
     "name": "stdout",
     "output_type": "stream",
     "text": [
      "Patient_ID             0\n",
      "Health_Camp_ID         0\n",
      "Registration_Date    334\n",
      "Var1                   0\n",
      "Var2                   0\n",
      "Var3                   0\n",
      "Var4                   0\n",
      "Var5                   0\n",
      "dtype: int64\n"
     ]
    }
   ],
   "source": [
    "# date needs some filling\n",
    "print(train_data.isnull().sum())\n",
    "train_data['Registration_Date'] = train_data['Registration_Date'].fillna('28-Mar-06')"
   ]
  },
  {
   "cell_type": "code",
   "execution_count": 346,
   "metadata": {},
   "outputs": [],
   "source": [
    "def clean_patient(df):\n",
    "    # too many missing values for these columns\n",
    "    #df.drop(['Age', 'Education_Score', 'Income'], axis=1, inplace=True)\n",
    "    df.drop(['Online_Follower','LinkedIn_Shared','Twitter_Shared','Facebook_Shared'], axis=1, inplace=True)\n",
    "    #df.drop('First_Interaction', axis=True, inplace=True)\n",
    "    #df.drop(['First_Interaction', 'City_Type', 'Employer_Category'], axis=1, inplace=True)\n",
    "    df[['Income', 'Education_Score', 'Age']] = df[['Income', 'Education_Score', 'Age']].apply(lambda x: x.str.replace('None', 'NaN').astype('float'))\n",
    "    \n",
    "    #df['Age'] = df['Age'].fillna(df['Age'].median())\n",
    "    #df['Income'] = df['Income'].fillna(df['Age'].median())\n",
    "    #df['Education_Score'] = df['Education_Score'].fillna(df['Age'].median())\n",
    "    df[['City_Type', 'Employer_Category']] = df[['City_Type', 'Employer_Category']].apply(lambda x: pd.factorize(x)[0])    \n",
    "    #df = df.fillna(-99)\n",
    "    return df\n",
    "\n",
    "# cleaning camp data\n",
    "def clean_camp(health_camp):\n",
    "    health_camp['Category1'] = health_camp['Category1'].map({'First': 1, 'Second': 2, 'Third': 3})\n",
    "    health_camp['Category2'] = pd.factorize(health_camp['Category2'])[0]\n",
    "    health_camp.drop('Category3', axis=1, inplace=True)\n",
    "    health_camp['Camp_Start_Date'] = pd.to_datetime(health_camp['Camp_Start_Date'])\n",
    "    health_camp['Camp_End_Date'] = pd.to_datetime(health_camp['Camp_End_Date'])\n",
    "    health_camp['total_days_of_campaign'] = (health_camp['Camp_End_Date'] - health_camp['Camp_Start_Date']).dt.days\n",
    "    return health_camp\n",
    "    #return health_camp.drop(['Camp_Start_Date', 'Camp_End_Date'], axis=1)\n",
    "\n",
    "def combine_patient(df):\n",
    "    return df.join(patient.set_index('Patient_ID'), on='Patient_ID', how='left')\n",
    "\n",
    "def combine_camp(df):\n",
    "    return df.join(camp_info.set_index('Health_Camp_ID'), on='Health_Camp_ID', how='left')  "
   ]
  },
  {
   "cell_type": "code",
   "execution_count": 347,
   "metadata": {},
   "outputs": [],
   "source": [
    "# code adapted from https://colab.research.google.com/drive/1aHNlBeBGa06hSYXRklQsVW6WAYv0-qRM?usp=sharing\n",
    "patient = clean_patient(patient)\n",
    "\n",
    "for df in [first_type_data, second_type_data, third_type_data, train_data]:\n",
    "    df['id'] = df['Patient_ID'].astype('str') + df['Health_Camp_ID'].astype('str')\n",
    "    \n",
    "third_type_data = third_type_data[third_type_data['Number_of_stall_visited'] > 0]\n",
    "\n",
    "all_patients_in_camp = pd.Series(first_type_data['id'].tolist() \n",
    "                                 + second_type_data['id'].tolist()\n",
    "                                 + third_type_data['id'].tolist()).unique()\n",
    "\n",
    "train_data['target'] = 0\n",
    "train_data.loc[train_data['id'].isin(all_patients_in_camp), 'target'] = 1\n",
    "train_data = train_data.drop('id', axis=1)"
   ]
  },
  {
   "cell_type": "code",
   "execution_count": 348,
   "metadata": {},
   "outputs": [],
   "source": [
    "train_data = combine_patient(train_data)\n",
    "test_data = combine_patient(test_data)\n",
    "camp_info = clean_camp(camp_info)\n",
    "train_data = combine_camp(train_data)\n",
    "test_data = combine_camp(test_data)"
   ]
  },
  {
   "cell_type": "code",
   "execution_count": 349,
   "metadata": {},
   "outputs": [],
   "source": [
    "# generating clean train and test sets\n",
    "def clean_dates(x):\n",
    "    y = x.sort_values('Registration_Date')\n",
    "    return y.diff()\n",
    "\n",
    "def clean_data(df, train=True):\n",
    "    df['Registration_Date'] = pd.to_datetime(df['Registration_Date'])\n",
    "    df['First_Interaction'] = pd.to_datetime(df['First_Interaction'])\n",
    "    df['Reg_First'] = (df['Registration_Date'] - df['First_Interaction']).dt.days\n",
    "    df['Days_From_Start'] = (df['Registration_Date'] - df['Camp_Start_Date']).dt.days\n",
    "    df['Days_From_End'] = (df['Camp_End_Date'] - df['Registration_Date']).dt.days\n",
    "    df['Days_For_Interaction'] =  (df['First_Interaction'] - df['Camp_Start_Date']).dt.days\n",
    "    \n",
    "    gby = df.groupby('Patient_ID').apply(clean_dates)\n",
    "    rt = gby['Registration_Date'].fillna(datetime.timedelta(days=500)).reset_index().drop('Patient_ID', axis=1).set_index('level_1')\n",
    "    df.index.name = 'level_1'\n",
    "    rt = rt.rename(columns={'Registration_Date': 'diff'})\n",
    "    df = rt.merge(df, on='level_1', how='left').sort_values(by='level_1')    \n",
    "    #df['date_diff'] = gby['Registration_Date'].fillna(datetime.timedelta(days=500)) \\\n",
    "    #                 .reset_index()['Registration_Date'].dt.days\n",
    "    df['diff'] = df['diff'].dt.days\n",
    "    count_map = dict(df.groupby('Patient_ID').agg({'Health_Camp_ID': 'count'}).reset_index().values)\n",
    "    df['Num_Camps'] = df['Patient_ID'].map(count_map)\n",
    "    df['Donated'] = 0\n",
    "    for id_ in first_type_data['Patient_ID']:\n",
    "        df.loc[df.Patient_ID == id_, 'Donated'] = float(first_type_data[first_type_data.Patient_ID == id_]['Donation'].mean())\n",
    "    if train:\n",
    "        df.drop(['Patient_ID', 'Health_Camp_ID'], axis=1, inplace=True)\n",
    "    return df.drop(['Camp_Start_Date', 'Camp_End_Date'], axis=1)"
   ]
  },
  {
   "cell_type": "code",
   "execution_count": 350,
   "metadata": {},
   "outputs": [],
   "source": [
    "train_data = clean_data(train_data)\n",
    "test_data = clean_data(test_data, False)\n",
    "\n",
    "#print(pearsonr(train_data['target'], train_data['donated']))"
   ]
  },
  {
   "cell_type": "code",
   "execution_count": 351,
   "metadata": {},
   "outputs": [],
   "source": [
    "#train_data['diff'] = train_data['diff'].dt.days\n",
    "#test_data['diff'] = test_data['diff'].dt.days"
   ]
  },
  {
   "cell_type": "code",
   "execution_count": 362,
   "metadata": {},
   "outputs": [],
   "source": [
    "# generating split that's close to test data split\n",
    "\n",
    "min_test_date = test_data['Registration_Date'].min()\n",
    "train = train_data.drop('target', axis=1)\n",
    "\n",
    "feature_names = list(train.columns)\n",
    "feature_names.remove('Registration_Date')\n",
    "feature_names.remove('First_Interaction')\n",
    "\n",
    "X_train = train[train['Registration_Date'] < min_test_date].drop(['Registration_Date', 'First_Interaction'], axis=1).values\n",
    "X_val = train[train['Registration_Date'] >= min_test_date].drop(['Registration_Date', 'First_Interaction'], axis=1).values\n",
    "\n",
    "y_train = train_data[train_data['Registration_Date'] < min_test_date]['target'].values\n",
    "y_val = train_data[train_data['Registration_Date'] >= min_test_date]['target'].values\n",
    "\n",
    "X_test = test_data.drop(['Registration_Date', 'First_Interaction'], axis=1)"
   ]
  },
  {
   "cell_type": "code",
   "execution_count": 365,
   "metadata": {},
   "outputs": [],
   "source": [
    "X_train = train.drop(['Registration_Date', 'First_Interaction'], axis=1).values\n",
    "y_train = train_data['target'].values\n",
    "\n",
    "#X_val = train.drop(['Registration_Date', 'First_Interaction'], axis=1).values"
   ]
  },
  {
   "cell_type": "code",
   "execution_count": 366,
   "metadata": {},
   "outputs": [
    {
     "name": "stdout",
     "output_type": "stream",
     "text": [
      "[5]\tvalid_0's auc: 0.860934\n",
      "[10]\tvalid_0's auc: 0.859477\n",
      "0.8751531300275626\n",
      "0.8594774550474958\n"
     ]
    },
    {
     "data": {
      "text/plain": [
       "<matplotlib.axes._subplots.AxesSubplot at 0x15a9941ad08>"
      ]
     },
     "execution_count": 366,
     "metadata": {},
     "output_type": "execute_result"
    },
    {
     "data": {
      "image/png": "[encoded data removed]",
      "text/plain": [
       "<Figure size 432x288 with 1 Axes>"
      ]
     },
     "metadata": {
      "needs_background": "light"
     },
     "output_type": "display_data"
    }
   ],
   "source": [
    "train_set = lgb.Dataset(X_train, y_train)\n",
    "val_set = lgb.Dataset(X_val, y_val)\n",
    "\n",
    "params = {\n",
    "    'boosting_type': 'dart',\n",
    "    'objective': 'binary',\n",
    "    'seed': 42,\n",
    "    'metric': 'auc',\n",
    "    'learning_rate': 0.001,\n",
    "    'max_depth': 6,\n",
    "    'colsample_bytree': 0.4,\n",
    "    'min_child_weight': 3\n",
    "}\n",
    "\n",
    "model = lgb.train(train_set=train_set, \n",
    "                  valid_sets=val_set, \n",
    "                  params=params, \n",
    "                  verbose_eval=5, \n",
    "                  num_boost_round=10, \n",
    "                  feature_name=feature_names)\n",
    "\n",
    "print(roc_auc_score(y_train, model.predict(X_train)))\n",
    "print(roc_auc_score(y_val, model.predict(X_val)))\n",
    "\n",
    "lgb.plot_importance(model)"
   ]
  },
  {
   "cell_type": "code",
   "execution_count": 284,
   "metadata": {},
   "outputs": [
    {
     "name": "stdout",
     "output_type": "stream",
     "text": [
      "[0]\teval-auc:0.87472\n",
      "[9]\teval-auc:0.87594\n",
      "0.9135292155784034\n",
      "0.8759414571974714\n"
     ]
    },
    {
     "data": {
      "text/plain": [
       "<matplotlib.axes._subplots.AxesSubplot at 0x15ab5e82608>"
      ]
     },
     "execution_count": 284,
     "metadata": {},
     "output_type": "execute_result"
    },
    {
     "data": {
      "image/png": "[encoded data removed]",
      "text/plain": [
       "<Figure size 432x288 with 1 Axes>"
      ]
     },
     "metadata": {
      "needs_background": "light"
     },
     "output_type": "display_data"
    }
   ],
   "source": [
    "train_set_xg = xgb.DMatrix(X_train, label=y_train, feature_names=feature_names)\n",
    "val_set_xg = xgb.DMatrix(X_val, label=y_val, feature_names=feature_names)\n",
    "\n",
    "params_xg ={\n",
    "    'objective': 'binary:logistic',\n",
    "    'eval_metric':'auc',\n",
    "    'verbosity': 1,\n",
    "    'max_depth': 5,\n",
    "    'subsample': 0.8,\n",
    "    'eta': 0.01\n",
    "}\n",
    "\n",
    "model_xg = xgb.train(params_xg, train_set_xg, \n",
    "                  num_boost_round=10, \n",
    "                  evals=[[val_set_xg, 'eval']],\n",
    "                  verbose_eval=10)\n",
    "\n",
    "print(roc_auc_score(y_train, model_xg.predict(train_set_xg)))\n",
    "print(roc_auc_score(y_val, model_xg.predict(val_set_xg)))\n",
    "\n",
    "xgb.plot_importance(model_xg)"
   ]
  },
  {
   "cell_type": "code",
   "execution_count": 361,
   "metadata": {},
   "outputs": [],
   "source": [
    "sub = pd.DataFrame()\n",
    "sub['Patient_ID'] = X_test['Patient_ID']\n",
    "sub['Health_Camp_ID'] = X_test['Health_Camp_ID']\n",
    "\n",
    "#sub['Outcome'] = model_xg.predict(xgb.DMatrix(X_test.drop(['Patient_ID', 'Health_Camp_ID'], axis=1).values, feature_names=feature_names))\n",
    "sub['Outcome'] = model.predict(X_test.drop(['Patient_ID', 'Health_Camp_ID'], axis=1).values)\n",
    "\n",
    "sub.to_csv('submission.csv', index=False)"
   ]
  },
  {
   "cell_type": "code",
   "execution_count": 1221,
   "metadata": {},
   "outputs": [
    {
     "data": {
      "text/plain": [
       "\"\\n0.8212 params\\nparams = {\\n    'boosting_type': 'dart',\\n    'objective': 'binary',\\n    'seed': 42,\\n    'metric': 'auc',\\n    'learning_rate': 0.01,\\n    'max_depth': 6,\\n    'colsample_bytree': 0.4,\\n    'min_child_weight': 2\\n}\\nnum rounds 5\\nbest score:\\n[5]\\tvalid_0's auc: 0.854756\\n0.8769541119255982\\n0.8547559525111879\\n\\n\\n0.8239\\nparams = {\\n    'boosting_type': 'dart',\\n    'objective': 'binary',\\n    'seed': 42,\\n    'metric': 'auc',\\n    'learning_rate': 0.015,\\n    'max_depth': 6,\\n    'colsample_bytree': 0.4,\\n    'min_child_weight': 3\\n}\\n\\nmodel = lgb.train(train_set=train_set, \\n                  valid_sets=val_set, \\n                  params=params, \\n                  verbose_eval=5, \\n                  num_boost_round=15, \\n                  feature_name=feature_names)\\n[5]\\tvalid_0's auc: 0.856384\\n[10]\\tvalid_0's auc: 0.859264\\n[15]\\tvalid_0's auc: 0.866988\\n0.9022561593569276\\n0.8669884457385031\\n\""
      ]
     },
     "execution_count": 1221,
     "metadata": {},
     "output_type": "execute_result"
    }
   ],
   "source": [
    "'''\n",
    "0.8212 params\n",
    "params = {\n",
    "    'boosting_type': 'dart',\n",
    "    'objective': 'binary',\n",
    "    'seed': 42,\n",
    "    'metric': 'auc',\n",
    "    'learning_rate': 0.01,\n",
    "    'max_depth': 6,\n",
    "    'colsample_bytree': 0.4,\n",
    "    'min_child_weight': 2\n",
    "}\n",
    "num rounds 5\n",
    "best score:\n",
    "[5]\tvalid_0's auc: 0.854756\n",
    "0.8769541119255982\n",
    "0.8547559525111879\n",
    "\n",
    "\n",
    "0.8239\n",
    "params = {\n",
    "    'boosting_type': 'dart',\n",
    "    'objective': 'binary',\n",
    "    'seed': 42,\n",
    "    'metric': 'auc',\n",
    "    'learning_rate': 0.015,\n",
    "    'max_depth': 6,\n",
    "    'colsample_bytree': 0.4,\n",
    "    'min_child_weight': 3\n",
    "}\n",
    "\n",
    "model = lgb.train(train_set=train_set, \n",
    "                  valid_sets=val_set, \n",
    "                  params=params, \n",
    "                  verbose_eval=5, \n",
    "                  num_boost_round=15, \n",
    "                  feature_name=feature_names)\n",
    "[5]\tvalid_0's auc: 0.856384\n",
    "[10]\tvalid_0's auc: 0.859264\n",
    "[15]\tvalid_0's auc: 0.866988\n",
    "0.9022561593569276\n",
    "0.8669884457385031\n",
    "'''"
   ]
  },
  {
   "cell_type": "code",
   "execution_count": null,
   "metadata": {},
   "outputs": [],
   "source": []
  }
 ],
 "metadata": {
  "kernelspec": {
   "display_name": "Python 3",
   "language": "python",
   "name": "python3"
  },
  "language_info": {
   "codemirror_mode": {
    "name": "ipython",
    "version": 3
   },
   "file_extension": ".py",
   "mimetype": "text/x-python",
   "name": "python",
   "nbconvert_exporter": "python",
   "pygments_lexer": "ipython3",
   "version": "3.7.4"
  }
 },
 "nbformat": 4,
 "nbformat_minor": 2
}
