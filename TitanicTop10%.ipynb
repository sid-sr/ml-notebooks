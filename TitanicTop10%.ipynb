{
 "cells": [
  {
   "cell_type": "code",
   "execution_count": 1,
   "metadata": {
    "_cell_guid": "b1076dfc-b9ad-4769-8c92-a6c4dae69d19",
    "_uuid": "8f2839f25d086af736a60e9eeb907d3b93b6e0e5"
   },
   "outputs": [
    {
     "name": "stderr",
     "output_type": "stream",
     "text": [
      "Using TensorFlow backend.\n"
     ]
    }
   ],
   "source": [
    "import pandas as pd\n",
    "import numpy as np\n",
    "import matplotlib.pyplot as plt\n",
    "from sklearn.preprocessing import StandardScaler\n",
    "import tensorflow as tf\n",
    "from keras.models import Sequential\n",
    "from keras.layers import Dense, PReLU, Input, Activation"
   ]
  },
  {
   "cell_type": "code",
   "execution_count": 2,
   "metadata": {
    "_cell_guid": "79c7e3d0-c299-4dcb-8224-4455121ee9b0",
    "_uuid": "d629ff2d2480ee46fbb7e2d37f6b5fab8052498a"
   },
   "outputs": [],
   "source": [
    "data = pd.read_csv('../input/titanic/train.csv')\n",
    "data_t = pd.read_csv('../input/titanic/test.csv')"
   ]
  },
  {
   "cell_type": "code",
   "execution_count": 3,
   "metadata": {},
   "outputs": [
    {
     "name": "stderr",
     "output_type": "stream",
     "text": [
      "/opt/conda/lib/python3.6/site-packages/pandas/core/indexing.py:205: SettingWithCopyWarning: \n",
      "A value is trying to be set on a copy of a slice from a DataFrame\n",
      "\n",
      "See the caveats in the documentation: http://pandas.pydata.org/pandas-docs/stable/user_guide/indexing.html#returning-a-view-versus-a-copy\n",
      "  self._setitem_with_indexer(indexer, value)\n"
     ]
    }
   ],
   "source": [
    "val = data['Age'].median()\n",
    "\n",
    "def clean_data(data):\n",
    "    data['Age'].fillna(val, inplace=True)\n",
    "    data.drop('Cabin', inplace=True, axis=1)\n",
    "    data['Embarked'].fillna('S', inplace=True)\n",
    "    data['Sex'] = data['Sex'].map({'male': 0, 'female': 1})\n",
    "    data['Title'] = data['Name'].str.split(', ', expand=True)[1].str.split('.', expand=True)[0]\n",
    "    data['Is_Married'] = 0\n",
    "    data['Is_Married'].loc[data['Title'] == 'Mrs'] = 1    \n",
    "    return data\n",
    "\n",
    "data = clean_data(data)"
   ]
  },
  {
   "cell_type": "code",
   "execution_count": 4,
   "metadata": {},
   "outputs": [],
   "source": [
    "mean_enc_cols = ['Embarked', 'Pclass', 'Title']\n",
    "cols = ['Pclass', 'Sex', 'Age', 'SibSp', 'Parch', 'Fare', 'Embarked', 'Title']\n",
    "cat_cols = ['Is_Married']\n",
    "encs, scales = [], []\n",
    "\n",
    "for col in mean_enc_cols:\n",
    "    enc = dict(data.groupby(col).agg({'Survived': 'mean'}).reset_index().values)\n",
    "    encs.append(enc)\n",
    "    data[col] = data[col].map(enc)\n",
    "    \n",
    "for col in cols:\n",
    "    sc = StandardScaler()\n",
    "    data[col] = sc.fit_transform(data[col].values.reshape(-1, 1))\n",
    "    scales.append(sc)"
   ]
  },
  {
   "cell_type": "code",
   "execution_count": 5,
   "metadata": {},
   "outputs": [
    {
     "name": "stdout",
     "output_type": "stream",
     "text": [
      "(891, 9) (891,)\n"
     ]
    }
   ],
   "source": [
    "X = data[cols+cat_cols].values\n",
    "y = data['Survived'].values\n",
    "print(X.shape, y.shape)"
   ]
  },
  {
   "cell_type": "code",
   "execution_count": 6,
   "metadata": {},
   "outputs": [],
   "source": [
    "model = Sequential()\n",
    "model.add(Dense(48, input_shape=(X.shape[1],)))\n",
    "model.add(PReLU())\n",
    "model.add(Dense(32))\n",
    "model.add(PReLU())\n",
    "model.add(Dense(1,activation='sigmoid'))\n",
    "\n",
    "model.compile(loss='binary_crossentropy', optimizer='adam', metrics=['accuracy'])"
   ]
  },
  {
   "cell_type": "code",
   "execution_count": 7,
   "metadata": {},
   "outputs": [
    {
     "name": "stdout",
     "output_type": "stream",
     "text": [
      "Epoch 1/32\n",
      "891/891 [==============================] - 1s 1ms/step - loss: 0.6740 - accuracy: 0.5780\n",
      "Epoch 2/32\n",
      "891/891 [==============================] - 0s 56us/step - loss: 0.5596 - accuracy: 0.7946\n",
      "Epoch 3/32\n",
      "891/891 [==============================] - 0s 54us/step - loss: 0.4842 - accuracy: 0.8103\n",
      "Epoch 4/32\n",
      "891/891 [==============================] - 0s 62us/step - loss: 0.4410 - accuracy: 0.8204\n",
      "Epoch 5/32\n",
      "891/891 [==============================] - 0s 75us/step - loss: 0.4246 - accuracy: 0.8227\n",
      "Epoch 6/32\n",
      "891/891 [==============================] - 0s 65us/step - loss: 0.4158 - accuracy: 0.8227\n",
      "Epoch 7/32\n",
      "891/891 [==============================] - 0s 76us/step - loss: 0.4089 - accuracy: 0.8283\n",
      "Epoch 8/32\n",
      "891/891 [==============================] - 0s 54us/step - loss: 0.4054 - accuracy: 0.8283\n",
      "Epoch 9/32\n",
      "891/891 [==============================] - 0s 54us/step - loss: 0.4016 - accuracy: 0.8283\n",
      "Epoch 10/32\n",
      "891/891 [==============================] - 0s 52us/step - loss: 0.3986 - accuracy: 0.8350\n",
      "Epoch 11/32\n",
      "891/891 [==============================] - 0s 54us/step - loss: 0.3962 - accuracy: 0.8373\n",
      "Epoch 12/32\n",
      "891/891 [==============================] - 0s 61us/step - loss: 0.3942 - accuracy: 0.8384\n",
      "Epoch 13/32\n",
      "891/891 [==============================] - 0s 53us/step - loss: 0.3924 - accuracy: 0.8373\n",
      "Epoch 14/32\n",
      "891/891 [==============================] - 0s 52us/step - loss: 0.3921 - accuracy: 0.8361\n",
      "Epoch 15/32\n",
      "891/891 [==============================] - 0s 54us/step - loss: 0.3890 - accuracy: 0.8384\n",
      "Epoch 16/32\n",
      "891/891 [==============================] - 0s 55us/step - loss: 0.3883 - accuracy: 0.8395\n",
      "Epoch 17/32\n",
      "891/891 [==============================] - 0s 55us/step - loss: 0.3870 - accuracy: 0.8440\n",
      "Epoch 18/32\n",
      "891/891 [==============================] - 0s 52us/step - loss: 0.3864 - accuracy: 0.8429\n",
      "Epoch 19/32\n",
      "891/891 [==============================] - 0s 54us/step - loss: 0.3851 - accuracy: 0.8462\n",
      "Epoch 20/32\n",
      "891/891 [==============================] - 0s 53us/step - loss: 0.3838 - accuracy: 0.8451\n",
      "Epoch 21/32\n",
      "891/891 [==============================] - 0s 53us/step - loss: 0.3834 - accuracy: 0.8462\n",
      "Epoch 22/32\n",
      "891/891 [==============================] - 0s 54us/step - loss: 0.3823 - accuracy: 0.8485\n",
      "Epoch 23/32\n",
      "891/891 [==============================] - 0s 70us/step - loss: 0.3805 - accuracy: 0.8462\n",
      "Epoch 24/32\n",
      "891/891 [==============================] - 0s 55us/step - loss: 0.3803 - accuracy: 0.8485\n",
      "Epoch 25/32\n",
      "891/891 [==============================] - 0s 53us/step - loss: 0.3795 - accuracy: 0.8507\n",
      "Epoch 26/32\n",
      "891/891 [==============================] - 0s 53us/step - loss: 0.3791 - accuracy: 0.8485\n",
      "Epoch 27/32\n",
      "891/891 [==============================] - 0s 63us/step - loss: 0.3779 - accuracy: 0.8519\n",
      "Epoch 28/32\n",
      "891/891 [==============================] - 0s 52us/step - loss: 0.3773 - accuracy: 0.8485\n",
      "Epoch 29/32\n",
      "891/891 [==============================] - 0s 53us/step - loss: 0.3760 - accuracy: 0.8507\n",
      "Epoch 30/32\n",
      "891/891 [==============================] - 0s 53us/step - loss: 0.3750 - accuracy: 0.8519\n",
      "Epoch 31/32\n",
      "891/891 [==============================] - 0s 53us/step - loss: 0.3752 - accuracy: 0.8485\n",
      "Epoch 32/32\n",
      "891/891 [==============================] - 0s 62us/step - loss: 0.3750 - accuracy: 0.8530\n"
     ]
    },
    {
     "data": {
      "text/plain": [
       "<keras.callbacks.callbacks.History at 0x7ff20a9e7be0>"
      ]
     },
     "execution_count": 7,
     "metadata": {},
     "output_type": "execute_result"
    }
   ],
   "source": [
    "model.fit(X, y, batch_size=64, epochs=32)"
   ]
  },
  {
   "cell_type": "code",
   "execution_count": 8,
   "metadata": {
    "collapsed": true
   },
   "outputs": [
    {
     "name": "stderr",
     "output_type": "stream",
     "text": [
      "/opt/conda/lib/python3.6/site-packages/pandas/core/indexing.py:205: SettingWithCopyWarning: \n",
      "A value is trying to be set on a copy of a slice from a DataFrame\n",
      "\n",
      "See the caveats in the documentation: http://pandas.pydata.org/pandas-docs/stable/user_guide/indexing.html#returning-a-view-versus-a-copy\n",
      "  self._setitem_with_indexer(indexer, value)\n"
     ]
    }
   ],
   "source": [
    "data_t = clean_data(data_t)\n",
    "\n",
    "for i, col in enumerate(mean_enc_cols):\n",
    "    data_t[col] = data_t[col].map(encs[i])\n",
    "    \n",
    "for i, col in enumerate(cols):\n",
    "    data_t[col] = scales[i].transform(data_t[col].values.reshape(-1, 1))\n",
    "\n",
    "X_test = data_t[cols+cat_cols].values"
   ]
  },
  {
   "cell_type": "code",
   "execution_count": 9,
   "metadata": {},
   "outputs": [],
   "source": [
    "ops = model.predict(X_test).ravel()\n",
    "fops = np.zeros(X_test.shape[0], dtype=np.int32)\n",
    "fops[ops > 0.5] = 1\n",
    "\n",
    "sub = pd.DataFrame({'PassengerId': data_t['PassengerId'], 'Survived': fops})\n",
    "sub.to_csv('sub.csv', index=False)"
   ]
  }
 ],
 "metadata": {
  "kernelspec": {
   "display_name": "Python 3",
   "language": "python",
   "name": "python3"
  },
  "language_info": {
   "codemirror_mode": {
    "name": "ipython",
    "version": 3
   },
   "file_extension": ".py",
   "mimetype": "text/x-python",
   "name": "python",
   "nbconvert_exporter": "python",
   "pygments_lexer": "ipython3",
   "version": "3.6.6"
  }
 },
 "nbformat": 4,
 "nbformat_minor": 4
}
